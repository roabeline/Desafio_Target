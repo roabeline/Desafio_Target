{
  "nbformat": 4,
  "nbformat_minor": 0,
  "metadata": {
    "colab": {
      "provenance": [],
      "mount_file_id": "1el28bWvjhkmyhvNzzCo7Gw1mNppvK1hI",
      "authorship_tag": "ABX9TyNkN9uvi4a8RrAVMAGOpYxK",
      "include_colab_link": true
    },
    "kernelspec": {
      "name": "python3",
      "display_name": "Python 3"
    },
    "language_info": {
      "name": "python"
    }
  },
  "cells": [
    {
      "cell_type": "markdown",
      "metadata": {
        "id": "view-in-github",
        "colab_type": "text"
      },
      "source": [
        "<a href=\"https://colab.research.google.com/github/roabeline/Desafio_Target/blob/main/Desafio_Target_1.ipynb\" target=\"_parent\"><img src=\"https://colab.research.google.com/assets/colab-badge.svg\" alt=\"Open In Colab\"/></a>"
      ]
    },
    {
      "cell_type": "code",
      "execution_count": 2,
      "metadata": {
        "colab": {
          "base_uri": "https://localhost:8080/"
        },
        "id": "HVtSfnC_xYKs",
        "outputId": "e8661779-1e14-4d98-e361-33aa7d4e2ad8"
      },
      "outputs": [
        {
          "output_type": "stream",
          "name": "stdout",
          "text": [
            "O valor final de SOMA é: 91\n"
          ]
        }
      ],
      "source": [
        "#Definindo as variáveis\n",
        "\n",
        "\n",
        "INDICE = 13\n",
        "SOMA = 0\n",
        "K = 0\n",
        "\n",
        "# Realizando a soma\n",
        "while K < INDICE:\n",
        "    K += 1\n",
        "    SOMA += K\n",
        "\n",
        "# Exibindo o resultado\n",
        "print(f\"O valor final de SOMA é: {SOMA}\")\n"
      ]
    },
    {
      "cell_type": "code",
      "source": [
        "# Função para gerar a sequência de Fibonacci até um limite\n",
        "\n",
        "def fibonacci(limite):\n",
        "    sequencia = [0, 1]\n",
        "    while sequencia[-1] < limite:\n",
        "        proximo = sequencia[-1] + sequencia[-2]\n",
        "        sequencia.append(proximo)\n",
        "    return sequencia\n",
        "\n",
        "# Função para verificar se o número pertence à sequência de Fibonacci\n",
        "\n",
        "def pertence_fibonacci(numero):\n",
        "    sequencia = fibonacci(numero)\n",
        "    if numero in sequencia:\n",
        "        return f\"O número {numero} pertence à sequência de Fibonacci.\"\n",
        "    else:\n",
        "        return f\"O número {numero} NÃO pertence à sequência de Fibonacci.\"\n",
        "\n",
        "# Definindo o numero a ser verificado\n",
        "\n",
        "numero = int(input(\"Digite um número para verificar se pertence à sequência de Fibonacci: \"))\n",
        "\n",
        "# Verificando o resultado\n",
        "\n",
        "resultado = pertence_fibonacci(numero)\n",
        "print(resultado)\n"
      ],
      "metadata": {
        "id": "XhSUemyd-Mlu"
      },
      "execution_count": null,
      "outputs": []
    },
    {
      "cell_type": "markdown",
      "source": [],
      "metadata": {
        "id": "SNIvICah0bq8"
      }
    },
    {
      "cell_type": "code",
      "source": [
        "from google.colab import drive\n",
        "drive.mount('/content/drive')\n",
        "\n",
        "# Definindo o caminho para o arquivo JSON no Google Drive\n",
        "caminho_arquivo = '/content/drive/MyDrive/dados.json'\n",
        "\n",
        "import json\n",
        "\n",
        "# Função para calcular o menor e maior valor e dias acima da média\n",
        "def processar_faturamento(caminho_arquivo):\n",
        "    # Carregar os dados do arquivo JSON\n",
        "    with open(caminho_arquivo, 'r') as file:\n",
        "        faturamento = json.load(file)\n",
        "\n",
        "    # Filtrando os valores de faturamento ignorando dias sem faturamento\n",
        "    valores = [dia['valor'] for dia in faturamento if dia['valor'] > 0]\n",
        "\n",
        "    if not valores:\n",
        "        return \"Não há dados de faturamento válidos.\"\n",
        "\n",
        "    # Cálculos\n",
        "    menor_valor = min(valores)\n",
        "    maior_valor = max(valores)\n",
        "    media_mensal = sum(valores) / len(valores)\n",
        "    dias_acima_da_media = len([valor for valor in valores if valor > media_mensal])\n",
        "\n",
        "    # Exibir resultados\n",
        "    return (f\"Menor valor de faturamento: {menor_valor}\\n\"\n",
        "            f\"Maior valor de faturamento: {maior_valor}\\n\"\n",
        "            f\"Número de dias com faturamento acima da média: {dias_acima_da_media}\")\n",
        "\n",
        "# Processando o faturamento e exibindo os resultados\n",
        "resultado = processar_faturamento(caminho_arquivo)\n",
        "print(resultado)\n"
      ],
      "metadata": {
        "id": "DdtPn_91-ijW"
      },
      "execution_count": null,
      "outputs": []
    },
    {
      "cell_type": "code",
      "source": [
        "from google.colab import drive\n",
        "import json\n",
        "\n",
        "# Montando o Google Drive\n",
        "drive.mount('/content/drive')\n",
        "\n",
        "# Definindo o caminho para o arquivo JSON no Google Drive\n",
        "caminho_arquivo = '/content/drive/MyDrive/dados.json'\n",
        "\n",
        "# Função para calcular o menor e maior valor e dias acima da média\n",
        "def processar_faturamento(caminho_arquivo):\n",
        "    try:\n",
        "        # Carregando os dados do arquivo JSON\n",
        "        with open(caminho_arquivo, 'r') as file:\n",
        "            faturamento = json.load(file)\n",
        "\n",
        "        # Filtrando os valores de faturamento ignorando dias sem faturamento\n",
        "        valores = [dia['valor'] for dia in faturamento if dia['valor'] > 0]\n",
        "\n",
        "        if not valores:\n",
        "            return \"Não há dados de faturamento válidos.\"\n",
        "\n",
        "        # Cálculos\n",
        "        menor_valor = min(valores)\n",
        "        maior_valor = max(valores)\n",
        "        media_mensal = sum(valores) / len(valores)\n",
        "        dias_acima_da_media = len([valor for valor in valores if valor > media_mensal])\n",
        "\n",
        "        # Exibir resultados\n",
        "        return (f\"Menor valor de faturamento: {menor_valor}\\n\"\n",
        "                f\"Maior valor de faturamento: {maior_valor}\\n\"\n",
        "                f\"Número de dias com faturamento acima da média: {dias_acima_da_media}\")\n",
        "\n",
        "    except FileNotFoundError:\n",
        "        return \"Arquivo não encontrado. Verifique o caminho do arquivo.\"\n",
        "    except json.JSONDecodeError:\n",
        "        return \"Erro ao decodificar o arquivo JSON. Verifique o formato do arquivo.\"\n",
        "    except Exception as e:\n",
        "        return f\"Erro ao processar o arquivo: {e}\"\n",
        "\n",
        "# Processar o faturamento e exibir resultados\n",
        "resultado = processar_faturamento(caminho_arquivo)\n",
        "print(resultado)\n"
      ],
      "metadata": {
        "id": "gxV4F9xO_EIO"
      },
      "execution_count": null,
      "outputs": []
    },
    {
      "cell_type": "code",
      "source": [
        "# Função para inverter a string\n",
        "\n",
        "def inverter_string(s):\n",
        "    resultado = ''\n",
        "    for i in range(len(s) - 1, -1, -1):\n",
        "        resultado += s[i]\n",
        "    return resultado\n",
        "\n",
        "# Solicitando a entrada do usuário\n",
        "\n",
        "entrada = input(\"Digite a string para inverter: \")\n",
        "\n",
        "# Invertendo a string e exibindo o resultado\n",
        "\n",
        "string_invertida = inverter_string(entrada)\n",
        "print(\"String invertida:\", string_invertida)\n"
      ],
      "metadata": {
        "id": "N8LRx6QCB61Q"
      },
      "execution_count": null,
      "outputs": []
    }
  ]
}